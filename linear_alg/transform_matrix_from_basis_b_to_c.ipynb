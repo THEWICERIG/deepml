{
 "cells": [
  {
   "cell_type": "code",
   "execution_count": null,
   "metadata": {},
   "outputs": [],
   "source": [
    "import numpy as np\n",
    "\n",
    "def transform_basis(B: list[list[int]], C: list[list[int]]) -> list[list[float]]:\n",
    "\tP = np.linalg.inv(np.array(C)) @ np.array(B)\n",
    "\treturn P"
   ]
  }
 ],
 "metadata": {
  "language_info": {
   "name": "python"
  }
 },
 "nbformat": 4,
 "nbformat_minor": 2
}
