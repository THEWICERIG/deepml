{
 "cells": [
  {
   "cell_type": "markdown",
   "metadata": {},
   "source": [
    "## Standard Method"
   ]
  },
  {
   "cell_type": "code",
   "execution_count": 8,
   "metadata": {},
   "outputs": [
    {
     "name": "stdout",
     "output_type": "stream",
     "text": [
      "Original: \n",
      " [[ 1  1]\n",
      " [-1  1]]\n"
     ]
    },
    {
     "data": {
      "text/plain": [
       "(array([[ 0.70710678,  0.70710678],\n",
       "        [ 0.70710678, -0.70710678]]),\n",
       " array([1.41421356, 1.41421356]),\n",
       " array([[0., 1.],\n",
       "        [1., 0.]]))"
      ]
     },
     "execution_count": 8,
     "metadata": {},
     "output_type": "execute_result"
    }
   ],
   "source": [
    "from math import sqrt\n",
    "import numpy as np \n",
    "def svd_2x2_singular_values(A: np.ndarray) -> tuple: \n",
    "    # Get A^TA\n",
    "    AT_A = np.matmul(A.T, A)\n",
    "    # get eigenvalues and V of A^TA\n",
    "    (eigenvalues, V) = np.linalg.eig(AT_A)\n",
    "    sorted_indices = np.argsort(eigenvalues)[::-1]\n",
    "    eigenvalues = eigenvalues[sorted_indices]\n",
    "    V = V[:, sorted_indices]\n",
    "    eigenvalues = np.clip(eigenvalues, 0, None)\n",
    "    \n",
    "    # Ensure eigenvalues are non-negative\n",
    "    eigenvalues = np.clip(eigenvalues, 0, None)\n",
    "    # Form sigma\n",
    "    sigma = np.array([[sqrt(eigenvalues[0]), 0], [0, sqrt(eigenvalues[1])]])\n",
    "\n",
    "    # Now to calculate U\n",
    "    U = np.zeros_like(V)\n",
    "\n",
    "    # # We're gonna cheat as U = AVE^-1\n",
    "    # sigma_inv = np.linalg.inv(sigma)\n",
    "    # v_sig_inv = V @ sigma_inv\n",
    "    # U = A @ v_sig_inv\n",
    "\n",
    "    # The above works, let's try this...\n",
    "    # A way to loop through the columns\n",
    "    for i in [0, 1]:\n",
    "        top = np.matmul(A, V.T[i])\n",
    "        sigma_val = sigma.diagonal()[i]\n",
    "        U.T[i] = np.divide(top, sigma_val)\n",
    "\n",
    "    # The only what diags for sigma\n",
    "    return U, sigma.diagonal(), V.T\n",
    "\n",
    "A = np.array([[1, 1], [-1, 1]])\n",
    "print(f\"Original: \\n {A}\")\n",
    "svd_2x2_singular_values(A)"
   ]
  },
  {
   "cell_type": "code",
   "execution_count": null,
   "metadata": {},
   "outputs": [],
   "source": [
    "A = np.array([[2, 1], [1, 2]])\n",
    "svd_2x2_singular_values(A)"
   ]
  },
  {
   "cell_type": "code",
   "execution_count": 11,
   "metadata": {},
   "outputs": [
    {
     "name": "stdout",
     "output_type": "stream",
     "text": [
      "[[-10.   8.]\n",
      " [ 10.  -1.]]\n"
     ]
    }
   ],
   "source": [
    "U,s,V = svd_2x2_singular_values(np.array([[-10, 8], [10, -1]]))\n",
    "result = U @ np.diag(s) @ V\n",
    "print(result)"
   ]
  },
  {
   "cell_type": "code",
   "execution_count": 10,
   "metadata": {},
   "outputs": [
    {
     "data": {
      "text/plain": [
       "array([[1., 2.],\n",
       "       [3., 4.]])"
      ]
     },
     "execution_count": 10,
     "metadata": {},
     "output_type": "execute_result"
    }
   ],
   "source": [
    "A = np.array([[1, 2], [3, 4]])\n",
    "U,s,V = svd_2x2_singular_values(A)\n",
    "\n",
    "U @ np.diag(s) @ V"
   ]
  },
  {
   "cell_type": "markdown",
   "metadata": {},
   "source": [
    "## Jacobi Method"
   ]
  },
  {
   "cell_type": "code",
   "execution_count": null,
   "metadata": {},
   "outputs": [],
   "source": [
    "from math import sqrt\n",
    "import numpy as np \n",
    "def svd_2x2_singular_values(A: np.ndarray) -> tuple: \n",
    "    # Get A^TA\n",
    "    AT_A = np.matmul(A.T, A)\n",
    "    theta = 0.5*np.arctan2(2*AT_A[0][1], AT_A[0][0]-AT_A[1][1])\n",
    "    P = np.array([[np.cos(theta), -np.sin(theta)],\n",
    "                  [np.sin(theta), np.cos(theta)]])\n",
    "    \n",
    "    A_prime = np.matmul(P.T, np.matmul(AT_A, P))\n",
    "\n",
    "    # Calculate first parts\n",
    "    sigma = np.array([[sqrt(A_prime[0, 0]), 0], [0, sqrt(A_prime[1, 1])]])\n",
    "    V = P\n",
    "\n",
    "    sigma_inverted = np.linalg.inv(sigma)\n",
    "    U = np.matmul(A, np.matmul(V, sigma_inverted))\n",
    "\n",
    "    return U, sigma.diagonal(), V.T\n",
    "\n",
    "A = np.array([[1, 1], [-1, 1]])\n",
    "svd_2x2_singular_values(A)"
   ]
  },
  {
   "cell_type": "code",
   "execution_count": null,
   "metadata": {},
   "outputs": [],
   "source": [
    "A = np.array([[1, 2], [3, 4]])\n",
    "svd_2x2_singular_values(A)"
   ]
  },
  {
   "cell_type": "code",
   "execution_count": null,
   "metadata": {},
   "outputs": [],
   "source": [
    "results = np.linalg.svd(np.array([[1, 2], [3, 4]]))\n",
    "print(results[0])\n",
    "print(results[1])\n",
    "print(results[2])"
   ]
  },
  {
   "cell_type": "code",
   "execution_count": 74,
   "metadata": {},
   "outputs": [
    {
     "data": {
      "text/plain": [
       "(array([[1., 0.],\n",
       "        [0., 1.]]),\n",
       " array([1.41421356, 1.41421356]),\n",
       " array([[1., 0.],\n",
       "        [0., 1.]]))"
      ]
     },
     "execution_count": 74,
     "metadata": {},
     "output_type": "execute_result"
    }
   ],
   "source": [
    "import numpy as np \n",
    "\n",
    "def svd_2x2_singular_values(A: np.ndarray) -> tuple: \n",
    "    # Stage 1: Find V\n",
    "    # Get A^T * A\n",
    "    AT_A = A.T @ A\n",
    "    # Set V to identity matrix 2x2\n",
    "    V = np.identity(2)\n",
    "    U = np.identity(2)\n",
    "    # Find the rotation matrix J\n",
    "    theta = 0.5 * np.arctan2(2 * AT_A[0, 1], AT_A[0, 0] - AT_A[1, 1])\n",
    "    J = np.array([[np.cos(theta), -np.sin(theta)],\n",
    "                [np.sin(theta), np.cos(theta)]])\n",
    "    # Find the new AT_A via J^T * AT_A * J\n",
    "    AT_A = J.T @ AT_A @ J\n",
    "    # V = VJ\n",
    "    V = V @ J\n",
    "    # U = UJ\n",
    "    U = U @ J\n",
    "\n",
    "    return U, np.sqrt(np.diag(AT_A)), V.T\n",
    "\n",
    "    \n",
    "\n",
    "svd_2x2_singular_values(np.array([[1, -1], [1, 1]]))"
   ]
  },
  {
   "cell_type": "code",
   "execution_count": 58,
   "metadata": {},
   "outputs": [
    {
     "data": {
      "text/plain": [
       "(array([[ 0.85065081, -0.52573111],\n",
       "        [ 0.52573111,  0.85065081]]),\n",
       " array([5.11667274, 1.95439508]),\n",
       " array([[ 0.76775173,  0.64074744],\n",
       "        [-0.64074744,  0.76775173]]))"
      ]
     },
     "execution_count": 58,
     "metadata": {},
     "output_type": "execute_result"
    }
   ],
   "source": [
    "svd_2x2_singular_values(np.array([[4, 2], [1, 3]]))"
   ]
  },
  {
   "cell_type": "code",
   "execution_count": 75,
   "metadata": {},
   "outputs": [
    {
     "data": {
      "text/plain": [
       "(array([[ 0.57604844, -0.81741556],\n",
       "        [ 0.81741556,  0.57604844]]),\n",
       " array([5.4649857 , 0.36596619]),\n",
       " array([[ 0.57604844,  0.81741556],\n",
       "        [-0.81741556,  0.57604844]]))"
      ]
     },
     "execution_count": 75,
     "metadata": {},
     "output_type": "execute_result"
    }
   ],
   "source": [
    "svd_2x2_singular_values(np.array([[1, 2], [3, 4]]))"
   ]
  },
  {
   "cell_type": "code",
   "execution_count": 70,
   "metadata": {},
   "outputs": [
    {
     "name": "stdout",
     "output_type": "stream",
     "text": [
      "U: [[ 0.57604844 -0.81741556]\n",
      " [ 0.81741556  0.57604844]]\n",
      "Singular Values: [5.4649857  0.36596619]\n",
      "V^T: [[ 0.57604844  0.81741556]\n",
      " [-0.81741556  0.57604844]]\n"
     ]
    }
   ],
   "source": [
    "import numpy as np\n",
    "\n",
    "def svd_2x2_singular_values(A: np.ndarray) -> tuple:\n",
    "    # Stage 1: Find V\n",
    "    AT_A = A.T @ A\n",
    "    theta = 0.5 * np.arctan2(2 * AT_A[0, 1], AT_A[0, 0] - AT_A[1, 1])\n",
    "    J = np.array([[np.cos(theta), -np.sin(theta)],\n",
    "                  [np.sin(theta), np.cos(theta)]])\n",
    "    V = np.identity(2) @ J\n",
    "    U = np.identity(2) @ J\n",
    "    \n",
    "    # Stage 2: Find singular values\n",
    "    AT_A_diag = J.T @ AT_A @ J\n",
    "    singular_values = np.sqrt(np.diag(AT_A_diag))\n",
    "\n",
    "\n",
    "    # Return the full matrices U, singular values, and V.T\n",
    "    return U, singular_values, V.T\n",
    "\n",
    "# Test the function\n",
    "U, singular_values, V_T = svd_2x2_singular_values(np.array([[1, 2], [3, 4]]))\n",
    "print(\"U:\", U)\n",
    "print(\"Singular Values:\", singular_values)\n",
    "print(\"V^T:\", V_T)\n"
   ]
  },
  {
   "cell_type": "code",
   "execution_count": null,
   "metadata": {},
   "outputs": [],
   "source": []
  },
  {
   "cell_type": "code",
   "execution_count": null,
   "metadata": {},
   "outputs": [],
   "source": []
  }
 ],
 "metadata": {
  "kernelspec": {
   "display_name": "aws_glue_39",
   "language": "python",
   "name": "python3"
  },
  "language_info": {
   "codemirror_mode": {
    "name": "ipython",
    "version": 3
   },
   "file_extension": ".py",
   "mimetype": "text/x-python",
   "name": "python",
   "nbconvert_exporter": "python",
   "pygments_lexer": "ipython3",
   "version": "3.9.19"
  }
 },
 "nbformat": 4,
 "nbformat_minor": 2
}
