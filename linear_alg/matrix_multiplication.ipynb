{
 "cells": [
  {
   "cell_type": "code",
   "execution_count": 7,
   "metadata": {},
   "outputs": [
    {
     "data": {
      "text/plain": [
       "[[8, 9], [16, 18]]"
      ]
     },
     "execution_count": 7,
     "metadata": {},
     "output_type": "execute_result"
    }
   ],
   "source": [
    "def matrixmul(a:list[list[int|float]],\n",
    "              b:list[list[int|float]])-> list[list[int|float]]:\n",
    "\tif len(a[0]) != len(b):\n",
    "\t\treturn -1\n",
    "\tc = [] \n",
    "\tfor i in a:\n",
    "\t\trow = []\n",
    "\t\tfor j in zip(*b):\n",
    "\t\t\trow.append(sum([i[x]*j[x] for x in range(len(i))]))\n",
    "\t\tc.append(row)\n",
    "\treturn c\n",
    "\n",
    "A = [[1,2],\n",
    "     [2,4]]\n",
    "B = [[2,1],\n",
    "      [3,4]]\n",
    "\n",
    "matrixmul(A, B)"
   ]
  },
  {
   "cell_type": "code",
   "execution_count": 6,
   "metadata": {},
   "outputs": [
    {
     "data": {
      "text/plain": [
       "-1"
      ]
     },
     "execution_count": 6,
     "metadata": {},
     "output_type": "execute_result"
    }
   ],
   "source": [
    "A = [[1,2],\n",
    "    [2,4]]\n",
    "B = [[2,1],\n",
    "    [3,4],\n",
    "    [4,5]]\n",
    "\n",
    "matrixmul(A, B)"
   ]
  }
 ],
 "metadata": {
  "kernelspec": {
   "display_name": "aws_glue_311",
   "language": "python",
   "name": "python3"
  },
  "language_info": {
   "codemirror_mode": {
    "name": "ipython",
    "version": 3
   },
   "file_extension": ".py",
   "mimetype": "text/x-python",
   "name": "python",
   "nbconvert_exporter": "python",
   "pygments_lexer": "ipython3",
   "version": "3.11.8"
  }
 },
 "nbformat": 4,
 "nbformat_minor": 2
}
