{
 "cells": [
  {
   "cell_type": "code",
   "execution_count": null,
   "metadata": {},
   "outputs": [],
   "source": [
    "def scalar_multiply(matrix: list[list[int|float]], scalar: int|float) -> list[list[int|float]]:\n",
    "\tfor i in range(len(matrix)):\n",
    "\t\tfor j in range(len(matrix[0])):\n",
    "\t\t\tmatrix[i][j] = matrix[i][j]*scalar\n",
    "\treturn matrix"
   ]
  }
 ],
 "metadata": {
  "language_info": {
   "name": "python"
  }
 },
 "nbformat": 4,
 "nbformat_minor": 2
}
