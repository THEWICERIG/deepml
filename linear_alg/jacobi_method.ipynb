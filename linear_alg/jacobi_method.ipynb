{
 "cells": [
  {
   "cell_type": "markdown",
   "metadata": {},
   "source": [
    "Example:\n",
    "        \n",
    "        input: A = [[5, -2, 3], [-3, 9, 1], [2, -1, -7]], b = [-1, 2, 3], n=2\n",
    "        \n",
    "        output: [0.146, 0.2032, -0.5175]\n",
    "        \n",
    "        reasoning: The Jacobi method iteratively solves each equation for x[i] using the formula x[i] = (1/a_ii) * (b[i] - sum(a_ij * x[j] for j != i)), where a_ii is the diagonal element of A and a_ij are the off-diagonal elements."
   ]
  },
  {
   "cell_type": "markdown",
   "metadata": {},
   "source": [
    "## My version ##"
   ]
  },
  {
   "cell_type": "code",
   "execution_count": 9,
   "metadata": {},
   "outputs": [
    {
     "data": {
      "text/plain": [
       "[0.146, 0.2032, -0.5175]"
      ]
     },
     "execution_count": 9,
     "metadata": {},
     "output_type": "execute_result"
    }
   ],
   "source": [
    "import numpy as np\n",
    "\n",
    "def solve_jacobi(A: np.ndarray, b: np.ndarray, n: int) -> list:\n",
    "    x_old = [0 for _ in range(len(b))]\n",
    "    x = [0 for _ in range(len(b))]\n",
    "    for _ in range(n):\n",
    "        for i in range(len(b)):\n",
    "            a_ii = A[i][i]\n",
    "            total = 0\n",
    "            for j in range(len(b)):\n",
    "                if j != i:\n",
    "                    total += A[i][j] * x_old[j]\n",
    "            total = b[i] - total\n",
    "            x[i] = round(total/a_ii, 4)\n",
    "        x_old = x.copy()\n",
    "    return x\n",
    "    \n",
    "solve_jacobi(A = [[5, -2, 3], [-3, 9, 1], [2, -1, -7]], b = [-1, 2, 3], n=2)\n",
    "#solve_jacobi(A = [[5, -1, 2], [3, 8, -2], [1, 1, 4]], b = [12, -25, 6], n=2)"
   ]
  },
  {
   "cell_type": "markdown",
   "metadata": {},
   "source": [
    "## Perfect version"
   ]
  },
  {
   "cell_type": "code",
   "execution_count": 8,
   "metadata": {},
   "outputs": [
    {
     "data": {
      "text/plain": [
       "[0.146, 0.2032, -0.5175]"
      ]
     },
     "execution_count": 8,
     "metadata": {},
     "output_type": "execute_result"
    }
   ],
   "source": [
    "import numpy as np\n",
    "def solve_jacobi(A: np.ndarray, b: np.ndarray, n: int) -> list:\n",
    "    # this extracts the diagonal from the numpy array\n",
    "    d_a = np.diag(A)\n",
    "    # this get's the non-diagonal by subtracting the diagonal from Vector A\n",
    "    nda = A - np.diag(d_a)\n",
    "    # similar to what I did\n",
    "    x = np.zeros(len(b))\n",
    "    x_hold = np.zeros(len(b))\n",
    "    # for each iteration...\n",
    "    for _ in range(n):\n",
    "        # for each element of the solution...\n",
    "        for i in range(len(A)):\n",
    "            # nda[i]*x is performing an element-wise multiplication between the 'i'th \n",
    "            # row of nda and the current solution vector, then we get  asumn of this, \n",
    "            # thus skipping the extra lines I needed\n",
    "            x_hold[i] = (1/d_a[i]) * (b[i] - sum(nda[i]*x))\n",
    "        x = x_hold.copy()\n",
    "    return np.round(x,4).tolist()\n",
    "\n",
    "solve_jacobi(A = [[5, -2, 3], [-3, 9, 1], [2, -1, -7]], b = [-1, 2, 3], n=2)"
   ]
  },
  {
   "cell_type": "code",
   "execution_count": null,
   "metadata": {},
   "outputs": [],
   "source": []
  }
 ],
 "metadata": {
  "kernelspec": {
   "display_name": "aws_glue_39",
   "language": "python",
   "name": "python3"
  },
  "language_info": {
   "codemirror_mode": {
    "name": "ipython",
    "version": 3
   },
   "file_extension": ".py",
   "mimetype": "text/x-python",
   "name": "python",
   "nbconvert_exporter": "python",
   "pygments_lexer": "ipython3",
   "version": "3.9.19"
  }
 },
 "nbformat": 4,
 "nbformat_minor": 2
}
