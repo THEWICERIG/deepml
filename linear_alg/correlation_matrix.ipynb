{
 "cells": [
  {
   "cell_type": "code",
   "execution_count": 21,
   "metadata": {},
   "outputs": [
    {
     "data": {
      "text/plain": [
       "array([[1., 1.],\n",
       "       [1., 1.]])"
      ]
     },
     "execution_count": 21,
     "metadata": {},
     "output_type": "execute_result"
    }
   ],
   "source": [
    "import numpy as np\n",
    "\n",
    "def calculate_correlation_matrix(X, Y=None):\n",
    "    def calculate_std_dev(A):\n",
    "        return np.sqrt(np.sum((A - A.mean(0))**2, axis=0) / (A.shape[0] - 1))\n",
    "\n",
    "    if Y is None:\n",
    "        Y = X\n",
    "    if X.shape != Y.shape:\n",
    "        print(f'Shapes don\\'t match. X.shape={X.shape}, Y.shape={Y.shape}')\n",
    "        return\n",
    "    # Return val\n",
    "    corr_matrix = np.zeros((X.shape[1], Y.shape[1]))\n",
    "    for X_col_id in range(len(X[0])):\n",
    "        for Y_col_id in range(len(Y[0])):\n",
    "            Xcol = X[:,X_col_id]\n",
    "            Ycol = Y[:,Y_col_id]\n",
    "            # calculated covariance\n",
    "            Xset = [x - np.mean(Xcol) for x in Xcol]\n",
    "            Yset = [y - np.mean(Ycol) for y in Ycol]\n",
    "            cov = sum([Xset[i]*Yset[i] for i in range(len(Xcol))])/(len(Xcol)-1)\n",
    "            # calculate correlation coeff\n",
    "            cor = cov/(calculate_std_dev(Xcol)*calculate_std_dev(Ycol))\n",
    "            corr_matrix[X_col_id, Y_col_id] = cor\n",
    "    return corr_matrix\n",
    "\n",
    "X = np.array([[1, 2],\n",
    "                  [3, 4],\n",
    "                  [5, 6]])\n",
    "calculate_correlation_matrix(X)"
   ]
  },
  {
   "cell_type": "code",
   "execution_count": 23,
   "metadata": {},
   "outputs": [
    {
     "data": {
      "text/plain": [
       "array([[ 1., -1.],\n",
       "       [-1.,  1.]])"
      ]
     },
     "execution_count": 23,
     "metadata": {},
     "output_type": "execute_result"
    }
   ],
   "source": [
    "X = np.array([[1, 0], [0, 1]])\n",
    "Y =np.array([[1, 2], [3, 4]])\n",
    "calculate_correlation_matrix(X)"
   ]
  }
 ],
 "metadata": {
  "kernelspec": {
   "display_name": "aws_glue_311",
   "language": "python",
   "name": "python3"
  },
  "language_info": {
   "codemirror_mode": {
    "name": "ipython",
    "version": 3
   },
   "file_extension": ".py",
   "mimetype": "text/x-python",
   "name": "python",
   "nbconvert_exporter": "python",
   "pygments_lexer": "ipython3",
   "version": "3.11.8"
  }
 },
 "nbformat": 4,
 "nbformat_minor": 2
}
