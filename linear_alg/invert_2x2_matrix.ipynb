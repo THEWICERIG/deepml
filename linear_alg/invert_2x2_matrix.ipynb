{
 "cells": [
  {
   "cell_type": "code",
   "execution_count": 7,
   "metadata": {},
   "outputs": [
    {
     "name": "stdout",
     "output_type": "stream",
     "text": [
      "10\n"
     ]
    },
    {
     "data": {
      "text/plain": [
       "[[0.6, -0.7], [-0.2, 0.4]]"
      ]
     },
     "execution_count": 7,
     "metadata": {},
     "output_type": "execute_result"
    }
   ],
   "source": [
    "def inverse_2x2(matrix: list[list[float]]) -> list[list[float]]:\n",
    "\ta, b, c, d = matrix[0][0], matrix[0][1], matrix[1][0], matrix[1][1]\n",
    "\t# Calculate determinant\n",
    "\tdeterminant = a*d - b*c\t\n",
    "\t# check if matrix is invertible, eg if det(matrix) = 0 \n",
    "\tif determinant == 0:\n",
    "\t\treturn None\n",
    "\t# Time each value of [[d, -b], [-c, a]] by 1/det(matrix), or just divide by det(matrix)\n",
    "\tinverse = [[x/determinant for x in row] for row in [[d, -b], [-c, a]]]\n",
    "\treturn inverse\n",
    "\n",
    "inverse_2x2(matrix = [[4, 7], [2, 6]])"
   ]
  },
  {
   "cell_type": "code",
   "execution_count": null,
   "metadata": {},
   "outputs": [],
   "source": []
  }
 ],
 "metadata": {
  "kernelspec": {
   "display_name": "aws_glue_311",
   "language": "python",
   "name": "python3"
  },
  "language_info": {
   "codemirror_mode": {
    "name": "ipython",
    "version": 3
   },
   "file_extension": ".py",
   "mimetype": "text/x-python",
   "name": "python",
   "nbconvert_exporter": "python",
   "pygments_lexer": "ipython3",
   "version": "3.11.8"
  }
 },
 "nbformat": 4,
 "nbformat_minor": 2
}
