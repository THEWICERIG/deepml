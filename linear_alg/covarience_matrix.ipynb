{
 "cells": [
  {
   "cell_type": "code",
   "execution_count": 4,
   "metadata": {},
   "outputs": [
    {
     "name": "stdout",
     "output_type": "stream",
     "text": [
      "[[1.0, 1.0], [1.0, 1.0]]\n"
     ]
    }
   ],
   "source": [
    "def calculate_covariance_matrix(vectors: list[list[float]]) -> list[list[float]]:\n",
    "    # check that n == m for all vectors\n",
    "    for list in vectors:\n",
    "        if len(list) != len(vectors[0]):\n",
    "            raise ValueError(\"The vectors are not the same length\")\n",
    "    # calculate the number of vectors - m\n",
    "    m = len(vectors)\n",
    "    # calculate the length of vectors - n\n",
    "    n = len(vectors[0])\n",
    "\n",
    "    # build covariance matrix, which must be number of vectors x number of vectors\n",
    "    # m x m\n",
    "    covariance_matrix = [[0 for _ in range(m)] for _ in range(m)]\n",
    "\n",
    "    # calculate the covariance between each pair of vectors\n",
    "    for i in range(m):\n",
    "        for j in range(m):\n",
    "            # get means of the vectors\n",
    "            mean_i = sum(vectors[i]) / n\n",
    "            mean_j = sum(vectors[j]) / n\n",
    "\n",
    "            # subtract the means from the vectors\n",
    "            vector_i = [v - mean_i for v in vectors[i]]\n",
    "            vector_j = [v - mean_j for v in vectors[j]]\n",
    "\n",
    "            # calculate the covariance\n",
    "            for v in range(n):\n",
    "                covariance_matrix[i][j] += vector_i[v] * vector_j[v]\n",
    "            covariance_matrix[i][j] /= n - 1\n",
    "\n",
    "    return covariance_matrix\n",
    "    \n",
    "print(calculate_covariance_matrix([[1, 2, 3], [4, 5, 6]]))"
   ]
  },
  {
   "cell_type": "code",
   "execution_count": 5,
   "metadata": {},
   "outputs": [
    {
     "name": "stdout",
     "output_type": "stream",
     "text": [
      "[[448.0, 520.0], [520.0, 700.0]]\n"
     ]
    }
   ],
   "source": [
    "print(calculate_covariance_matrix([[92, 60, 100], [80, 30, 70]]))"
   ]
  },
  {
   "cell_type": "code",
   "execution_count": 6,
   "metadata": {},
   "outputs": [
    {
     "name": "stdout",
     "output_type": "stream",
     "text": [
      "[[819.5, -348.925, -236.99999999999994], [-348.925, 1421.443, -181.185], [-236.99999999999994, -181.185, 166.70000000000002]]\n"
     ]
    }
   ],
   "source": [
    "print(calculate_covariance_matrix([[75, 65, 22, 15, 18], [10.5, 12.8, 7.3, 2.1, 92], [45, 65, 74, 76, 56]]))"
   ]
  },
  {
   "cell_type": "markdown",
   "metadata": {},
   "source": [
    "The ideal solution"
   ]
  },
  {
   "cell_type": "code",
   "execution_count": null,
   "metadata": {},
   "outputs": [],
   "source": [
    "def calculate_covariance_matrix(vectors: list[list[float]]) -> list[list[float]]:\n",
    "    n_features = len(vectors)\n",
    "    n_observations = len(vectors[0])\n",
    "    covariance_matrix = [[0 for _ in range(n_features)] for _ in range(n_features)]\n",
    "\n",
    "    means = [sum(feature) / n_observations for feature in vectors]\n",
    "\n",
    "    for i in range(n_features):\n",
    "        for j in range(i, n_features):\n",
    "            covariance = sum((vectors[i][k] - means[i]) * (vectors[j][k] - means[j]) for k in range(n_observations)) / (n_observations - 1)\n",
    "            covariance_matrix[i][j] = covariance_matrix[j][i] = covariance\n",
    "\n",
    "    return covariance_matrix"
   ]
  }
 ],
 "metadata": {
  "kernelspec": {
   "display_name": "aws_glue_39",
   "language": "python",
   "name": "python3"
  },
  "language_info": {
   "codemirror_mode": {
    "name": "ipython",
    "version": 3
   },
   "file_extension": ".py",
   "mimetype": "text/x-python",
   "name": "python",
   "nbconvert_exporter": "python",
   "pygments_lexer": "ipython3",
   "version": "3.9.19"
  }
 },
 "nbformat": 4,
 "nbformat_minor": 2
}
