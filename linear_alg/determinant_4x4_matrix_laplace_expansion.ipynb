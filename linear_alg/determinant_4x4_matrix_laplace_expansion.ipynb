{
 "cells": [
  {
   "cell_type": "code",
   "execution_count": 16,
   "metadata": {},
   "outputs": [
    {
     "name": "stdout",
     "output_type": "stream",
     "text": [
      "matrix_3x3=[[6, 7, 8], [10, 11, 12], [14, 15, 16]]\n",
      "matrix_3x3=[[5, 7, 8], [9, 11, 12], [13, 15, 16]]\n",
      "matrix_3x3=[[5, 6, 8], [9, 10, 12], [13, 14, 16]]\n",
      "matrix_3x3=[[5, 6, 7], [9, 10, 11], [13, 14, 15]]\n",
      "0\n"
     ]
    }
   ],
   "source": [
    "def determinant_4x4(matrix: list[list[int|float]]) -> float:\n",
    "    # determinant of a 1x1 matrix is the value\n",
    "    if len(matrix[0]) == 1:\n",
    "        return matrix[0][0]\n",
    "    determinant = 0\n",
    "    positive_sign = True\n",
    "    # For each value in first row\n",
    "    for i in range(len(matrix[0])):\n",
    "        # Get value in row\n",
    "        outer_val = matrix[0][i]\n",
    "        # Get all columns except the desired column\n",
    "        matrix_3x3 = [row[:i] + row[i+1:] for row in matrix[1:]]\n",
    "        inner_determinant = determinant_4x4(matrix_3x3)\n",
    "        if positive_sign:\n",
    "            determinant += outer_val * inner_determinant\n",
    "        else:\n",
    "            determinant -= outer_val * inner_determinant\n",
    "        positive_sign = not positive_sign\n",
    "    return determinant\n",
    "\n",
    "print(determinant_4x4([[1, 2, 3, 4], [5, 6, 7, 8], [9, 10, 11, 12], [13, 14, 15, 16]]))"
   ]
  }
 ],
 "metadata": {
  "kernelspec": {
   "display_name": "aws_glue_311",
   "language": "python",
   "name": "python3"
  },
  "language_info": {
   "codemirror_mode": {
    "name": "ipython",
    "version": 3
   },
   "file_extension": ".py",
   "mimetype": "text/x-python",
   "name": "python",
   "nbconvert_exporter": "python",
   "pygments_lexer": "ipython3",
   "version": "3.11.8"
  }
 },
 "nbformat": 4,
 "nbformat_minor": 2
}
