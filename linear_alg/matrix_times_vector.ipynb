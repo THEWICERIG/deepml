{
 "cells": [
  {
   "cell_type": "code",
   "execution_count": null,
   "metadata": {},
   "outputs": [],
   "source": [
    "def matrix_dot_vector(a:list[list[int|float]],b:list[int|float])-> list[int|float]:\n",
    "    # check the column of matrix a is equal to the length of vector b\n",
    "    if len(a[0]) != len(b):\n",
    "        return -1\n",
    "    # Result will be the same length as the row of matrix a\n",
    "    c = [0] * len(a)\n",
    "    for i in range(len(a)):\n",
    "        for j in range(len(b)):\n",
    "            c[i] += a[i][j] * b[j]\n",
    "    return c"
   ]
  }
 ],
 "metadata": {
  "language_info": {
   "name": "python"
  }
 },
 "nbformat": 4,
 "nbformat_minor": 2
}
