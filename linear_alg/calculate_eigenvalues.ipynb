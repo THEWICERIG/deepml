{
 "cells": [
  {
   "cell_type": "code",
   "execution_count": 4,
   "metadata": {},
   "outputs": [
    {
     "data": {
      "text/plain": [
       "[3.0, 1.0]"
      ]
     },
     "execution_count": 4,
     "metadata": {},
     "output_type": "execute_result"
    }
   ],
   "source": [
    "# no numpy as that's kinda a cheat\n",
    "import math\n",
    "def calculate_eigenvalues(matrix: list[list[float|int]]) -> list[float]:\n",
    "\t# lambda^2 -tr(A)*lambda + det(A) --> put into quad formula\n",
    "\n",
    "\t# matrix values to calculate determinant and trace\n",
    "\ta_, b_, c_, d_ = matrix[0][0], matrix[0][1], matrix[1][0], matrix[1][1]\n",
    "    # Vals for quad formula\n",
    "\ta = 1\n",
    "\tb = 0 - (a_ + d_) # trace of A (needs to be negative)\n",
    "\tc = a_*d_ - b_*c_\n",
    "\teigen_vals = [(-b + math.sqrt(b*b-4*a*c))/2*a, (-b - math.sqrt(b*b-4*a*c))/2*a]\n",
    "\treturn sorted(eigen_vals, reverse=True)\n",
    "\n",
    "calculate_eigenvalues(matrix = [[2, 1], [1, 2]])\n",
    "\t"
   ]
  }
 ],
 "metadata": {
  "kernelspec": {
   "display_name": "aws_glue_311",
   "language": "python",
   "name": "python3"
  },
  "language_info": {
   "codemirror_mode": {
    "name": "ipython",
    "version": 3
   },
   "file_extension": ".py",
   "mimetype": "text/x-python",
   "name": "python",
   "nbconvert_exporter": "python",
   "pygments_lexer": "ipython3",
   "version": "3.11.8"
  }
 },
 "nbformat": 4,
 "nbformat_minor": 2
}
