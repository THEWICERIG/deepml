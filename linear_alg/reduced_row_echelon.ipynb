{
 "cells": [
  {
   "cell_type": "code",
   "execution_count": null,
   "metadata": {},
   "outputs": [
    {
     "name": "stdout",
     "output_type": "stream",
     "text": [
      "[[ 1.  0.  0. -8.]\n",
      " [-0.  1.  0.  1.]\n",
      " [-0. -0.  1. -2.]]\n"
     ]
    }
   ],
   "source": [
    "import numpy as np\n",
    "\n",
    "def rref(matrix):\n",
    "    matrix = matrix.astype(float)\n",
    "    for col_num in range(len(matrix[0])):\n",
    "        for row_num in range(col_num, len(matrix)):\n",
    "            if matrix[row_num, col_num] != 0:\n",
    "                matrix[[col_num, row_num]] = matrix[[row_num, col_num]]\n",
    "                row_num = col_num\n",
    "                matrix[row_num] = matrix[row_num] / matrix[row_num][col_num]\n",
    "                for row_num_2 in range(len(matrix)):\n",
    "                    if row_num != row_num_2 and matrix[row_num_2, col_num] != 0:\n",
    "                        while matrix[row_num_2, col_num] != 0:\n",
    "                            if matrix[row_num_2, col_num]>0:\n",
    "                                matrix[row_num_2] = matrix[row_num_2] - (matrix[row_num] * matrix[row_num_2, col_num])\n",
    "                            else: \n",
    "                                matrix[row_num_2] = matrix[row_num_2] + (matrix[row_num] * matrix[row_num, col_num])\n",
    "                break\n",
    "\n",
    "    return matrix\n",
    "\n",
    "\n",
    "matrix = np.array([\n",
    "    [1, 2, -1, -4],\n",
    "    [2, 3, -1, -11],\n",
    "    [-2, 0, -3, 22]\n",
    "])\n",
    "\n",
    "rref_matrix = rref(matrix)\n",
    "print(rref_matrix)"
   ]
  },
  {
   "cell_type": "code",
   "execution_count": 36,
   "metadata": {},
   "outputs": [
    {
     "ename": "KeyboardInterrupt",
     "evalue": "",
     "output_type": "error",
     "traceback": [
      "\u001b[0;31m---------------------------------------------------------------------------\u001b[0m",
      "\u001b[0;31mKeyboardInterrupt\u001b[0m                         Traceback (most recent call last)",
      "Cell \u001b[0;32mIn[36], line 7\u001b[0m\n\u001b[1;32m      1\u001b[0m matrix \u001b[38;5;241m=\u001b[39m np\u001b[38;5;241m.\u001b[39marray([\n\u001b[1;32m      2\u001b[0m     [\u001b[38;5;241m0\u001b[39m, \u001b[38;5;241m2\u001b[39m, \u001b[38;5;241m-\u001b[39m\u001b[38;5;241m1\u001b[39m, \u001b[38;5;241m-\u001b[39m\u001b[38;5;241m4\u001b[39m],\n\u001b[1;32m      3\u001b[0m     [\u001b[38;5;241m2\u001b[39m, \u001b[38;5;241m0\u001b[39m, \u001b[38;5;241m-\u001b[39m\u001b[38;5;241m1\u001b[39m, \u001b[38;5;241m-\u001b[39m\u001b[38;5;241m11\u001b[39m],\n\u001b[1;32m      4\u001b[0m     [\u001b[38;5;241m-\u001b[39m\u001b[38;5;241m2\u001b[39m, \u001b[38;5;241m0\u001b[39m, \u001b[38;5;241m0\u001b[39m, \u001b[38;5;241m22\u001b[39m]\n\u001b[1;32m      5\u001b[0m ])\n\u001b[0;32m----> 7\u001b[0m output \u001b[38;5;241m=\u001b[39m \u001b[43mrref\u001b[49m\u001b[43m(\u001b[49m\u001b[43mmatrix\u001b[49m\u001b[43m)\u001b[49m\n\u001b[1;32m      8\u001b[0m \u001b[38;5;28mprint\u001b[39m(output)\n",
      "Cell \u001b[0;32mIn[35], line 13\u001b[0m, in \u001b[0;36mrref\u001b[0;34m(matrix)\u001b[0m\n\u001b[1;32m     11\u001b[0m \u001b[38;5;28;01mfor\u001b[39;00m row_num_2 \u001b[38;5;129;01min\u001b[39;00m \u001b[38;5;28mrange\u001b[39m(\u001b[38;5;28mlen\u001b[39m(matrix)):\n\u001b[1;32m     12\u001b[0m     \u001b[38;5;28;01mif\u001b[39;00m row_num \u001b[38;5;241m!=\u001b[39m row_num_2 \u001b[38;5;129;01mand\u001b[39;00m matrix[row_num_2, col_num] \u001b[38;5;241m!=\u001b[39m \u001b[38;5;241m0\u001b[39m:\n\u001b[0;32m---> 13\u001b[0m         \u001b[38;5;28;01mwhile\u001b[39;00m matrix[row_num_2, col_num] \u001b[38;5;241m!=\u001b[39m \u001b[38;5;241m0\u001b[39m:\n\u001b[1;32m     14\u001b[0m             \u001b[38;5;28;01mif\u001b[39;00m matrix[row_num_2, col_num]\u001b[38;5;241m>\u001b[39m\u001b[38;5;241m0\u001b[39m:\n\u001b[1;32m     15\u001b[0m                 matrix[row_num_2] \u001b[38;5;241m=\u001b[39m matrix[row_num_2] \u001b[38;5;241m-\u001b[39m (matrix[row_num] \u001b[38;5;241m*\u001b[39m matrix[row_num, col_num])\n",
      "\u001b[0;31mKeyboardInterrupt\u001b[0m: "
     ]
    }
   ],
   "source": [
    "matrix = np.array([\n",
    "    [0, 2, -1, -4],\n",
    "    [2, 0, -1, -11],\n",
    "    [-2, 0, 0, 22]\n",
    "])\n",
    "\n",
    "output = rref(matrix)\n",
    "print(output)"
   ]
  }
 ],
 "metadata": {
  "kernelspec": {
   "display_name": ".venv",
   "language": "python",
   "name": "python3"
  },
  "language_info": {
   "codemirror_mode": {
    "name": "ipython",
    "version": 3
   },
   "file_extension": ".py",
   "mimetype": "text/x-python",
   "name": "python",
   "nbconvert_exporter": "python",
   "pygments_lexer": "ipython3",
   "version": "3.12.7"
  }
 },
 "nbformat": 4,
 "nbformat_minor": 2
}
