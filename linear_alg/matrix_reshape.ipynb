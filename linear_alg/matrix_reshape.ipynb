{
 "cells": [
  {
   "cell_type": "code",
   "execution_count": 33,
   "metadata": {},
   "outputs": [],
   "source": [
    "import numpy as np\n",
    "import math\n",
    "\n",
    "# easy way\n",
    "def reshape_matrix_1(a: list[list[int|float]], new_shape: tuple[int, int]) -> list[list[int|float]]:\n",
    "    return np.array(a).reshape(new_shape).tolist()\n",
    "\n",
    "# The more complicated way\n",
    "def reshape_matrix(a: list[list[int|float]], new_shape: tuple[int, int]) -> list[list[int|float]]:\n",
    "    a = np.array(a)\n",
    "    if math.prod(a.shape) != math.prod(new_shape):\n",
    "        return\n",
    "    a = np.ravel(a)\n",
    "    reshaped_matrix = np.zeros(new_shape, dtype=int)\n",
    "    for i in range(new_shape[0]):\n",
    "        for j in range(new_shape[1]):\n",
    "            reshaped_matrix[i, j], a = a[0], a[1:]\n",
    "    return reshaped_matrix.tolist()"
   ]
  },
  {
   "cell_type": "code",
   "execution_count": 30,
   "metadata": {},
   "outputs": [
    {
     "data": {
      "text/plain": [
       "[[1, 2], [3, 4], [5, 6], [7, 8]]"
      ]
     },
     "execution_count": 30,
     "metadata": {},
     "output_type": "execute_result"
    }
   ],
   "source": [
    "reshape_matrix(a = [[1,2,3,4],[5,6,7,8]], new_shape = (4, 2))"
   ]
  },
  {
   "cell_type": "code",
   "execution_count": 34,
   "metadata": {},
   "outputs": [
    {
     "data": {
      "text/plain": [
       "[[1, 2], [3, 4], [5, 6], [7, 8]]"
      ]
     },
     "execution_count": 34,
     "metadata": {},
     "output_type": "execute_result"
    }
   ],
   "source": [
    "reshape_matrix_1(a = [[1,2,3,4],[5,6,7,8]], new_shape = (4, 2))"
   ]
  }
 ],
 "metadata": {
  "kernelspec": {
   "display_name": "aws_glue_311",
   "language": "python",
   "name": "python3"
  },
  "language_info": {
   "codemirror_mode": {
    "name": "ipython",
    "version": 3
   },
   "file_extension": ".py",
   "mimetype": "text/x-python",
   "name": "python",
   "nbconvert_exporter": "python",
   "pygments_lexer": "ipython3",
   "version": "3.11.8"
  }
 },
 "nbformat": 4,
 "nbformat_minor": 2
}
