{
 "cells": [
  {
   "cell_type": "code",
   "execution_count": 124,
   "metadata": {},
   "outputs": [
    {
     "data": {
      "text/plain": [
       "(array([[3, 4],\n",
       "        [7, 8],\n",
       "        [1, 2],\n",
       "        [5, 6]]),\n",
       " array([2, 4, 1, 3]))"
      ]
     },
     "execution_count": 124,
     "metadata": {},
     "output_type": "execute_result"
    }
   ],
   "source": [
    "import numpy as np\n",
    "\n",
    "def shuffle_data(X, y, seed=None):\n",
    "\tif seed:\n",
    "\t\tnp.random.seed(seed)\n",
    "\tidx = np.arange(X.shape[0])\n",
    "\tnp.random.shuffle(idx)\n",
    "\treturn X[idx], y[idx]\n",
    "\n",
    "X = np.array([[1, 2], \n",
    "            [3, 4], \n",
    "            [5, 6], \n",
    "            [7, 8]])\n",
    "y = np.array([1, 2, 3, 4])\n",
    "shuffle_data(X, y, seed=42)"
   ]
  },
  {
   "cell_type": "code",
   "execution_count": 113,
   "metadata": {},
   "outputs": [
    {
     "name": "stdout",
     "output_type": "stream",
     "text": [
      "X[0].shape=(2,)\n",
      "X.size=8\n",
      "X.size=6\n",
      "X.size=4\n",
      "X.size=2\n"
     ]
    },
    {
     "data": {
      "text/plain": [
       "(array([[7, 8],\n",
       "        [5, 6],\n",
       "        [3, 4],\n",
       "        [1, 2]]),\n",
       " array([4, 3, 2, 1]))"
      ]
     },
     "execution_count": 113,
     "metadata": {},
     "output_type": "execute_result"
    }
   ],
   "source": [
    "import numpy as np\n",
    "# Hard mode, avoid using ANY modules, aside from numpy just for data arrays\n",
    "def shuffle_data(X, y, seed=None):\n",
    "\tif X.shape[0] != y.shape[0]:\n",
    "\t\treturn\n",
    "\tX_shuffled, y_shuffled = np.zeros_like(X), np.zeros_like(y)\n",
    "\tif seed:\n",
    "\t\tseed = sum([ord(s) for s in seed]) if isinstance(seed, str) else int(seed)\n",
    "\telse:\n",
    "\t\tnew_dic = {}\n",
    "\t\tseed = id(new_dic)\n",
    "\tfeeding_counter = 0\n",
    "\twhile X.shape[0] != 0:\n",
    "\t\ti = seed % X.shape[0]\n",
    "\t\tX_shuffled[feeding_counter, :] = X[i, :]\n",
    "\t\tX= np.delete(X, [i], axis=0)\n",
    "\t\ty_shuffled[feeding_counter] = y[i]\n",
    "\t\ty = np.delete(y, [i], axis=0)\n",
    "\t\tfeeding_counter += 1\n",
    "\treturn X_shuffled, y_shuffled\n",
    "\n",
    "\n",
    "X = np.array([[1, 2], \n",
    "            [3, 4], \n",
    "            [5, 6], \n",
    "            [7, 8]])\n",
    "y = np.array([1, 2, 3, 4])\n",
    "shuffle_data(X, y, seed='steve')"
   ]
  }
 ],
 "metadata": {
  "kernelspec": {
   "display_name": "micrograd_3_12",
   "language": "python",
   "name": "python3"
  },
  "language_info": {
   "codemirror_mode": {
    "name": "ipython",
    "version": 3
   },
   "file_extension": ".py",
   "mimetype": "text/x-python",
   "name": "python",
   "nbconvert_exporter": "python",
   "pygments_lexer": "ipython3",
   "version": "3.12.4"
  }
 },
 "nbformat": 4,
 "nbformat_minor": 2
}
