{
 "cells": [
  {
   "cell_type": "code",
   "execution_count": 19,
   "metadata": {},
   "outputs": [
    {
     "data": {
      "text/plain": [
       "[array([[1, 2],\n",
       "        [3, 4]]),\n",
       " array([1, 2]),\n",
       " array([[5, 6],\n",
       "        [7, 8]]),\n",
       " array([3, 4]),\n",
       " array([[ 9, 10]]),\n",
       " array([5])]"
      ]
     },
     "execution_count": 19,
     "metadata": {},
     "output_type": "execute_result"
    }
   ],
   "source": [
    "import numpy as np\n",
    "\n",
    "def batch_iterator(X, y=None, batch_size=64):\n",
    "    result = []\n",
    "    idx = 0\n",
    "    while(idx < len(X)):\n",
    "        result.append(X[idx:idx+batch_size])\n",
    "        if y is not None:\n",
    "            result.append(y[idx:idx+batch_size])\n",
    "        idx += batch_size\n",
    "    return result\n",
    "    # if y is not None:\n",
    "    #     return np.array(new_x), np.array(new_y)\n",
    "    # return np.array(new_x)\n",
    "\n",
    "X = np.array([[1, 2], \n",
    "                  [3, 4], \n",
    "                  [5, 6], \n",
    "                  [7, 8], \n",
    "                  [9, 10]])\n",
    "y = np.array([1, 2, 3, 4, 5])\n",
    "batch_size = 2\n",
    "batch_iterator(X, y, batch_size)"
   ]
  }
 ],
 "metadata": {
  "kernelspec": {
   "display_name": "aws_glue_311",
   "language": "python",
   "name": "python3"
  },
  "language_info": {
   "codemirror_mode": {
    "name": "ipython",
    "version": 3
   },
   "file_extension": ".py",
   "mimetype": "text/x-python",
   "name": "python",
   "nbconvert_exporter": "python",
   "pygments_lexer": "ipython3",
   "version": "3.11.8"
  }
 },
 "nbformat": 4,
 "nbformat_minor": 2
}
