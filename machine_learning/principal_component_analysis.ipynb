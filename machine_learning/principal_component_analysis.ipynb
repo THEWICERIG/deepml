{
 "cells": [
  {
   "cell_type": "code",
   "execution_count": 47,
   "metadata": {},
   "outputs": [
    {
     "name": "stdout",
     "output_type": "stream",
     "text": [
      "eigenvalues=array([3., 0.])\n",
      "eigenvectors=array([[ 0.70710678, -0.70710678],\n",
      "       [ 0.70710678,  0.70710678]])\n",
      "eigenvectors_sorted=array([[ 0.70710678, -0.70710678],\n",
      "       [ 0.70710678,  0.70710678]])\n"
     ]
    },
    {
     "data": {
      "text/plain": [
       "array([[0.70710678],\n",
       "       [0.70710678]])"
      ]
     },
     "execution_count": 47,
     "metadata": {},
     "output_type": "execute_result"
    }
   ],
   "source": [
    "import numpy as np \n",
    "def pca(data: np.ndarray, k: int) -> list[list[int|float]]:\n",
    "    # standardise: set mean to 0 and std to 1, axis on 0 as we want to only\n",
    "    # calculate the mean and std over the columns (feature-wise)\n",
    "    standardised_data = (data - np.mean(data, axis=0)) / np.std(data, axis=0)\n",
    "    # covariance matrix calc, we want rowvr to be false\n",
    "    cov = np.cov(standardised_data, rowvar=False)\n",
    "    # eigen(values/vectors)\n",
    "    eigenvalues, eigenvectors = np.linalg.eig(cov)\n",
    "    print(f'{eigenvalues=}')\n",
    "    print(f'{eigenvectors=}')\n",
    "    # sort eigenvectors by eigenvalues (we are \n",
    "    # looking at the columns of eigen vectors, not the columns)\n",
    "    idx = np.argsort(eigenvalues)[::-1]\n",
    "    eigenvectors_sorted = eigenvectors[:, idx]\n",
    "\n",
    "    return eigenvectors_sorted[:, :k]\n",
    "\n",
    "data = np.array([[1, 2], [3, 4], [5, 6]])\n",
    "k = 1\n",
    "pca(data, k)"
   ]
  },
  {
   "cell_type": "code",
   "execution_count": 48,
   "metadata": {},
   "outputs": [
    {
     "name": "stdout",
     "output_type": "stream",
     "text": [
      "eigenvalues=array([2.79940678, 0.02069312, 1.1799001 ])\n",
      "eigenvectors=array([[ 0.68547545,  0.72394434,  0.07764021],\n",
      "       [ 0.62021767, -0.63643914,  0.45855781],\n",
      "       [-0.3813836 ,  0.26617629,  0.88526647]])\n",
      "eigenvectors_sorted=array([[ 0.68547545,  0.07764021,  0.72394434],\n",
      "       [ 0.62021767,  0.45855781, -0.63643914],\n",
      "       [-0.3813836 ,  0.88526647,  0.26617629]])\n",
      "[[ 0.68547545  0.07764021]\n",
      " [ 0.62021767  0.45855781]\n",
      " [-0.3813836   0.88526647]]\n"
     ]
    }
   ],
   "source": [
    "print(pca(np.array([[4,2,1],[5,6,7],[9,12,1],[4,6,7]]),2))"
   ]
  }
 ],
 "metadata": {
  "kernelspec": {
   "display_name": ".venv",
   "language": "python",
   "name": "python3"
  },
  "language_info": {
   "codemirror_mode": {
    "name": "ipython",
    "version": 3
   },
   "file_extension": ".py",
   "mimetype": "text/x-python",
   "name": "python",
   "nbconvert_exporter": "python",
   "pygments_lexer": "ipython3",
   "version": "3.12.7"
  }
 },
 "nbformat": 4,
 "nbformat_minor": 2
}
