{
 "cells": [
  {
   "cell_type": "code",
   "execution_count": 43,
   "metadata": {},
   "outputs": [],
   "source": [
    "import numpy as np\n",
    "\n",
    "def gradient_descent(X, y, weights, learning_rate, n_iterations, batch_size=1, method='batch'):\n",
    "    match method:\n",
    "        case 'batch':\n",
    "            batches = [X]\n",
    "            labels = [y]\n",
    "        case 'stochastic':\n",
    "            batches = np.split(X, X.shape[0])\n",
    "            labels = np.split(y, X.shape[0])\n",
    "        case 'mini_batch':\n",
    "            batches = np.split(X, batch_size)\n",
    "            labels = np.split(y, batch_size)\n",
    "    \n",
    "    for _ in range(n_iterations):\n",
    "        for i in range(len(batches)):\n",
    "            # get the batches and labels\n",
    "            batch = batches[i]\n",
    "            label = labels[i]\n",
    "\n",
    "            # forward pass\n",
    "            pred = batch@weights\n",
    "            loss = np.mean((pred - label)**2) # MSE\n",
    "\n",
    "            # backwards pass\n",
    "            grad = (2/len(label)) * batch.T @ (pred - label)\n",
    "\n",
    "            # update the weights\n",
    "            weights -= grad * learning_rate\n",
    "\n",
    "        # Logging\n",
    "        if _ % 100 == 0:\n",
    "            print(f'Loss is: {loss}')\n",
    "            print(f'Pred is {pred}')\n",
    "            print('----------')\n",
    "    return weights\n",
    "\n"
   ]
  },
  {
   "cell_type": "code",
   "execution_count": 44,
   "metadata": {},
   "outputs": [],
   "source": [
    "# Sample data\n",
    "X = np.array([[1, 1], [2, 1], [3, 1], [4, 1]])\n",
    "y = np.array([2, 3, 4, 5])\n",
    "\n",
    "# Parameters\n",
    "learning_rate = 0.01\n",
    "n_iterations = 1000\n",
    "batch_size = 2\n",
    "\n",
    "# Initialize weights\n",
    "weights = np.zeros(X.shape[1])"
   ]
  },
  {
   "cell_type": "code",
   "execution_count": 45,
   "metadata": {},
   "outputs": [
    {
     "name": "stdout",
     "output_type": "stream",
     "text": [
      "batches=[array([[1, 1],\n",
      "       [2, 1],\n",
      "       [3, 1],\n",
      "       [4, 1]])]\n",
      "labels=[array([2, 3, 4, 5])]\n",
      "Loss is: 13.5\n",
      "Pred is [0. 0. 0. 0.]\n",
      "----------\n",
      "Loss is: 0.032074295101586096\n",
      "Pred is [1.71082014 2.85987253 4.00892492 5.15797731]\n",
      "----------\n",
      "Loss is: 0.01760840354360213\n",
      "Pred is [1.78573589 2.89617436 4.00661284 5.11705132]\n",
      "----------\n",
      "Loss is: 0.009666802477571085\n",
      "Pred is [1.84124374 2.92307172 4.0048997  5.08672768]\n",
      "----------\n",
      "Loss is: 0.005306958686457833\n",
      "Pred is [1.88237157 2.94300097 4.00363037 5.06425977]\n",
      "----------\n",
      "Loss is: 0.002913456705577233\n",
      "Pred is [1.91284471 2.9577673  4.00268988 5.04761246]\n",
      "----------\n",
      "Loss is: 0.0015994528084292622\n",
      "Pred is [1.9354234  2.96870822 4.00199303 5.03527784]\n",
      "----------\n",
      "Loss is: 0.0008780804195562414\n",
      "Pred is [1.95215279 2.97681475 4.00147671 5.02613867]\n",
      "----------\n",
      "Loss is: 0.0004820556249891878\n",
      "Pred is [1.96454822 2.98282119 4.00109415 5.01936711]\n",
      "----------\n",
      "Loss is: 0.00026464275982962456\n",
      "Pred is [1.97373246 2.98727158 4.0008107  5.01434982]\n",
      "----------\n"
     ]
    },
    {
     "data": {
      "text/plain": [
       "array([1.01003164, 0.97050576])"
      ]
     },
     "execution_count": 45,
     "metadata": {},
     "output_type": "execute_result"
    }
   ],
   "source": [
    "gradient_descent(X, y, weights, learning_rate, n_iterations, method='batch')"
   ]
  },
  {
   "cell_type": "code",
   "execution_count": 46,
   "metadata": {},
   "outputs": [
    {
     "name": "stdout",
     "output_type": "stream",
     "text": [
      "batches=[array([[1, 1]]), array([[2, 1]]), array([[3, 1]]), array([[4, 1]])]\n",
      "labels=[array([2]), array([3]), array([4]), array([5])]\n",
      "Loss is: 0.00017435016374913232\n",
      "Pred is [5.01320417]\n",
      "----------\n",
      "Loss is: 9.357504360231605e-06\n",
      "Pred is [5.003059]\n",
      "----------\n",
      "Loss is: 7.468982453722015e-07\n",
      "Pred is [5.00086423]\n",
      "----------\n",
      "Loss is: 5.96160009614058e-08\n",
      "Pred is [5.00024416]\n",
      "----------\n",
      "Loss is: 4.7584360958187265e-09\n",
      "Pred is [5.00006898]\n",
      "----------\n",
      "Loss is: 3.798093416453241e-10\n",
      "Pred is [5.00001949]\n",
      "----------\n",
      "Loss is: 3.031566108966591e-11\n",
      "Pred is [5.00000551]\n",
      "----------\n",
      "Loss is: 2.4197385571769832e-12\n",
      "Pred is [5.00000156]\n",
      "----------\n",
      "Loss is: 1.9313894109541683e-13\n",
      "Pred is [5.00000044]\n",
      "----------\n",
      "Loss is: 1.5415983622284932e-14\n",
      "Pred is [5.00000012]\n",
      "----------\n"
     ]
    },
    {
     "data": {
      "text/plain": [
       "array([1.00000003, 0.9999999 ])"
      ]
     },
     "execution_count": 46,
     "metadata": {},
     "output_type": "execute_result"
    }
   ],
   "source": [
    "gradient_descent(X, y, weights, learning_rate, n_iterations, method='stochastic')"
   ]
  },
  {
   "cell_type": "code",
   "execution_count": 47,
   "metadata": {},
   "outputs": [
    {
     "name": "stdout",
     "output_type": "stream",
     "text": [
      "batches=[array([[1, 1],\n",
      "       [2, 1]]), array([[3, 1],\n",
      "       [4, 1]])]\n",
      "labels=[array([2, 3]), array([4, 5])]\n",
      "Loss is: 4.525293951906432e-16\n",
      "Pred is [4.         5.00000003]\n",
      "----------\n",
      "Loss is: 1.8288081205262217e-16\n",
      "Pred is [4.         5.00000002]\n",
      "----------\n",
      "Loss is: 5.263460502655009e-17\n",
      "Pred is [4.         5.00000001]\n",
      "----------\n",
      "Loss is: 1.514866875281022e-17\n",
      "Pred is [4.         5.00000001]\n",
      "----------\n",
      "Loss is: 4.359911143640006e-18\n",
      "Pred is [4. 5.]\n",
      "----------\n",
      "Loss is: 1.2548193822190541e-18\n",
      "Pred is [4. 5.]\n",
      "----------\n",
      "Loss is: 3.611467909927828e-19\n",
      "Pred is [4. 5.]\n",
      "----------\n",
      "Loss is: 1.0394109469342545e-19\n",
      "Pred is [4. 5.]\n",
      "----------\n",
      "Loss is: 2.991517913309273e-20\n",
      "Pred is [4. 5.]\n",
      "----------\n",
      "Loss is: 8.609874063511644e-21\n",
      "Pred is [4. 5.]\n",
      "----------\n"
     ]
    },
    {
     "data": {
      "text/plain": [
       "array([1., 1.])"
      ]
     },
     "execution_count": 47,
     "metadata": {},
     "output_type": "execute_result"
    }
   ],
   "source": [
    "gradient_descent(X, y, weights, learning_rate, n_iterations, batch_size, method='mini_batch')"
   ]
  },
  {
   "cell_type": "code",
   "execution_count": 9,
   "metadata": {},
   "outputs": [
    {
     "data": {
      "text/plain": [
       "array([0., 0.])"
      ]
     },
     "execution_count": 9,
     "metadata": {},
     "output_type": "execute_result"
    }
   ],
   "source": [
    "weights"
   ]
  },
  {
   "cell_type": "code",
   "execution_count": 24,
   "metadata": {},
   "outputs": [
    {
     "data": {
      "text/plain": [
       "[array([[1, 1]]), array([[2, 1]]), array([[3, 1]]), array([[4, 1]])]"
      ]
     },
     "execution_count": 24,
     "metadata": {},
     "output_type": "execute_result"
    }
   ],
   "source": [
    "np.split(X, X.shape[0])"
   ]
  }
 ],
 "metadata": {
  "kernelspec": {
   "display_name": ".venv",
   "language": "python",
   "name": "python3"
  },
  "language_info": {
   "codemirror_mode": {
    "name": "ipython",
    "version": 3
   },
   "file_extension": ".py",
   "mimetype": "text/x-python",
   "name": "python",
   "nbconvert_exporter": "python",
   "pygments_lexer": "ipython3",
   "version": "3.12.7"
  }
 },
 "nbformat": 4,
 "nbformat_minor": 2
}
