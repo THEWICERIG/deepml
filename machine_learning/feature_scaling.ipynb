{
 "cells": [
  {
   "cell_type": "code",
   "execution_count": 99,
   "metadata": {},
   "outputs": [
    {
     "data": {
      "text/plain": [
       "(array([[-1.2247, -1.2247],\n",
       "        [ 0.    ,  0.    ],\n",
       "        [ 1.2247,  1.2247]]),\n",
       " array([[0. , 0. ],\n",
       "        [0.5, 0.5],\n",
       "        [1. , 1. ]]))"
      ]
     },
     "execution_count": 99,
     "metadata": {},
     "output_type": "execute_result"
    }
   ],
   "source": [
    "import numpy as np\n",
    "\n",
    "def feature_scaling(data: np.ndarray) -> tuple[np.ndarray, np.ndarray]:\n",
    "    data = data.astype(np.float64)\n",
    "    standardized_data, normalized_data = np.zeros_like(data), np.zeros_like(data)\n",
    "    for i in range(data.shape[0]):\n",
    "        standardized_data[i] = round(((np.mean(data, axis=1)  - np.mean(np.mean(data, axis=1)))/np.mean(data, axis=1).std())[i], 4)\n",
    "        normalized_data[i] = round(((np.mean(data, axis=1) - min(np.mean(data, axis=1)))/(max(np.mean(data, axis=1))-min(np.mean(data, axis=1))))[i], 4)\n",
    "    return standardized_data, normalized_data\n",
    "\n",
    "feature_scaling(np.array([[1, 2], [3, 4], [5, 6]]))"
   ]
  },
  {
   "cell_type": "markdown",
   "metadata": {},
   "source": [
    "The ideal solution:"
   ]
  },
  {
   "cell_type": "code",
   "execution_count": 100,
   "metadata": {},
   "outputs": [
    {
     "data": {
      "text/plain": [
       "([[-1.2247, -1.2247], [0.0, 0.0], [1.2247, 1.2247]],\n",
       " [[0.0, 0.0], [0.5, 0.5], [1.0, 1.0]])"
      ]
     },
     "execution_count": 100,
     "metadata": {},
     "output_type": "execute_result"
    }
   ],
   "source": [
    "import numpy as np\n",
    "\n",
    "def feature_scaling(data):\n",
    "    # Standardization\n",
    "    mean = np.mean(data, axis=0)\n",
    "    std = np.std(data, axis=0)\n",
    "    standardized_data = (data - mean) / std\n",
    "    \n",
    "    # Min-Max Normalization\n",
    "    min_val = np.min(data, axis=0)\n",
    "    max_val = np.max(data, axis=0)\n",
    "    normalized_data = (data - min_val) / (max_val - min_val)\n",
    "    \n",
    "    return np.round(standardized_data,4).tolist(), np.round(normalized_data,4).tolist()\n",
    "\n",
    "feature_scaling(np.array([[1, 2], [3, 4], [5, 6]]))"
   ]
  }
 ],
 "metadata": {
  "kernelspec": {
   "display_name": "micrograd_3_12",
   "language": "python",
   "name": "python3"
  },
  "language_info": {
   "codemirror_mode": {
    "name": "ipython",
    "version": 3
   },
   "file_extension": ".py",
   "mimetype": "text/x-python",
   "name": "python",
   "nbconvert_exporter": "python",
   "pygments_lexer": "ipython3",
   "version": "3.12.4"
  }
 },
 "nbformat": 4,
 "nbformat_minor": 2
}
