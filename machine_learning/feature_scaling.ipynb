{
 "cells": [
  {
   "cell_type": "code",
   "execution_count": null,
   "metadata": {},
   "outputs": [],
   "source": [
    "import numpy as np\n",
    "\n",
    "def feature_scaling(data: np.ndarray) -> tuple[np.ndarray, np.ndarray]:\n",
    "    normalized_data = (max(data) - data)/(max(data)-min(data))\n",
    "    return standardized_data, normalized_data\n"
   ]
  },
  {
   "cell_type": "code",
   "execution_count": 13,
   "metadata": {},
   "outputs": [
    {
     "data": {
      "text/plain": [
       "array([2.57131052, 9.66439887, 3.8465184 , 8.83842751, 6.13171227,\n",
       "       8.13464336, 4.96023321, 3.31657136, 1.89155125, 7.48257613])"
      ]
     },
     "execution_count": 13,
     "metadata": {},
     "output_type": "execute_result"
    }
   ],
   "source": [
    "sampl = np.random.uniform(low=0.5, high=13.3, size=(10,))\n",
    "sampl"
   ]
  },
  {
   "cell_type": "code",
   "execution_count": 14,
   "metadata": {},
   "outputs": [
    {
     "data": {
      "text/plain": [
       "array([0.91254695, 0.        , 0.74848765, 0.10626368, 0.45449065,\n",
       "       0.1968076 , 0.60520493, 0.81666692, 1.        , 0.28069799])"
      ]
     },
     "execution_count": 14,
     "metadata": {},
     "output_type": "execute_result"
    }
   ],
   "source": [
    "(max(sampl) - sampl)/(max(sampl)-min(sampl))"
   ]
  }
 ],
 "metadata": {
  "kernelspec": {
   "display_name": "micrograd_3_12",
   "language": "python",
   "name": "python3"
  },
  "language_info": {
   "codemirror_mode": {
    "name": "ipython",
    "version": 3
   },
   "file_extension": ".py",
   "mimetype": "text/x-python",
   "name": "python",
   "nbconvert_exporter": "python",
   "pygments_lexer": "ipython3",
   "version": "3.12.4"
  }
 },
 "nbformat": 4,
 "nbformat_minor": 2
}
