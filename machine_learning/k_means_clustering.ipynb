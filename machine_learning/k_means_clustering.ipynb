{
 "cells": [
  {
   "cell_type": "code",
   "execution_count": 5,
   "metadata": {},
   "outputs": [
    {
     "data": {
      "text/plain": [
       "[(np.float64(1.0), np.float64(2.0)), (np.float64(10.0), np.float64(2.0))]"
      ]
     },
     "execution_count": 5,
     "metadata": {},
     "output_type": "execute_result"
    }
   ],
   "source": [
    "import numpy as np\n",
    "\n",
    "def centeroidnp(arr):\n",
    "    length = arr.shape[0]\n",
    "    sum_x = np.sum(arr[:, 0])\n",
    "    sum_y = np.sum(arr[:, 1])\n",
    "    if arr.shape[1] == 3:\n",
    "        sum_z = np.sum(arr[:, 2])\n",
    "        return sum_x/length, sum_y/length, sum_z/length\n",
    "    return sum_x/length, sum_y/length\n",
    "\n",
    "def k_means_clustering(points: list[tuple[float, float]], k: int, initial_centroids: list[tuple[float, float]], max_iterations: int) -> list[tuple[float, float]]:\n",
    "    iterations = 0\n",
    "    while iterations<max_iterations:\n",
    "        grouping = [[] for _ in range(len(initial_centroids))]\n",
    "        for point in points:\n",
    "            best_i, best_dist = 0, None\n",
    "            for i in range(len(initial_centroids)):\n",
    "                euc_dist = np.linalg.norm(np.array(point) - np.array(initial_centroids[i]))\n",
    "                if best_dist is None or euc_dist<best_dist:\n",
    "                    best_i = i\n",
    "                    best_dist = euc_dist\n",
    "            grouping[best_i].append(point)\n",
    "        for i in range(len(initial_centroids)):\n",
    "            clustered = grouping[i]\n",
    "            if clustered:\n",
    "                initial_centroids[i] = centeroidnp(np.array(clustered))\n",
    "        iterations+=1\n",
    "    return initial_centroids\n",
    "\n",
    "k_means_clustering(points = [(1, 2), (1, 4), (1, 0), (10, 2), (10, 4), (10, 0)], k = 2, initial_centroids = [(1, 1), (10, 1)], max_iterations = 10)\n"
   ]
  },
  {
   "cell_type": "code",
   "execution_count": 6,
   "metadata": {},
   "outputs": [
    {
     "name": "stdout",
     "output_type": "stream",
     "text": [
      "[(np.float64(1.0), np.float64(1.0), np.float64(1.0)), (np.float64(10.333333333333334), np.float64(10.666666666666666), np.float64(10.333333333333334))]\n"
     ]
    }
   ],
   "source": [
    "print(k_means_clustering([(0, 0, 0), (2, 2, 2), (1, 1, 1), (9, 10, 9), (10, 11, 10), (12, 11, 12)], 2, [(1, 1, 1), (10, 10, 10)], 10))"
   ]
  },
  {
   "cell_type": "code",
   "execution_count": 4,
   "metadata": {},
   "outputs": [
    {
     "data": {
      "text/plain": [
       "(6, 3)"
      ]
     },
     "execution_count": 4,
     "metadata": {},
     "output_type": "execute_result"
    }
   ],
   "source": [
    "np.array([(0, 0, 0), (2, 2, 2), (1, 1, 1), (9, 10, 9), (10, 11, 10), (12, 11, 12)]).shape"
   ]
  },
  {
   "cell_type": "markdown",
   "metadata": {},
   "source": [
    "The website preferred solution:"
   ]
  },
  {
   "cell_type": "code",
   "execution_count": null,
   "metadata": {},
   "outputs": [],
   "source": [
    "import numpy as np\n",
    "\n",
    "def euclidean_distance(a, b):\n",
    "    return np.sqrt(((a - b) ** 2).sum(axis=1))\n",
    "\n",
    "def k_means_clustering(points, k, initial_centroids, max_iterations):\n",
    "    points = np.array(points)\n",
    "    centroids = np.array(initial_centroids)\n",
    "    \n",
    "    for iteration in range(max_iterations):\n",
    "        # Assign points to the nearest centroid\n",
    "        distances = np.array([euclidean_distance(points, centroid) for centroid in centroids])\n",
    "        assignments = np.argmin(distances, axis=0)\n",
    "\n",
    "        new_centroids = np.array([points[assignments == i].mean(axis=0) if len(points[assignments == i]) > 0 else centroids[i] for i in range(k)])\n",
    "        \n",
    "        # Check for convergence\n",
    "        if np.all(centroids == new_centroids):\n",
    "            break\n",
    "        centroids = new_centroids\n",
    "        centroids = np.round(centroids,4)\n",
    "    return [tuple(centroid) for centroid in centroids]"
   ]
  }
 ],
 "metadata": {
  "kernelspec": {
   "display_name": ".venv",
   "language": "python",
   "name": "python3"
  },
  "language_info": {
   "codemirror_mode": {
    "name": "ipython",
    "version": 3
   },
   "file_extension": ".py",
   "mimetype": "text/x-python",
   "name": "python",
   "nbconvert_exporter": "python",
   "pygments_lexer": "ipython3",
   "version": "3.12.7"
  }
 },
 "nbformat": 4,
 "nbformat_minor": 2
}
