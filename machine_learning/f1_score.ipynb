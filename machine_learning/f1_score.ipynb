{
 "cells": [
  {
   "cell_type": "code",
   "execution_count": 13,
   "metadata": {},
   "outputs": [],
   "source": [
    "import numpy as np\n",
    "\n",
    "def f_score(y_true, y_pred, beta):\n",
    "    \"\"\"\n",
    "    Calculate F-Score for a binary classification task.\n",
    "\n",
    "    :param y_true: Numpy array of true labels\n",
    "    :param y_pred: Numpy array of predicted labels\n",
    "    :param beta: The weight of precision in the harmonic mean\n",
    "    :return: F-Score rounded to three decimal places\n",
    "    \"\"\"\n",
    "    tp, fp, fn = 0, 0, 0\n",
    "    for i in range(len(y_true)):\n",
    "        if y_true[i] == 1 and y_pred[i] == 1:\n",
    "            tp+=1\n",
    "        if y_true[i] == 1 and y_pred[i] == 0:\n",
    "            fn+=1\n",
    "        if y_true[i] == 0 and y_pred[i] == 1:\n",
    "            fp+=1\n",
    "    precision = tp/(tp+fp)\n",
    "    recall = tp/(tp+fn)\n",
    "    return round((1+beta**2)*precision*recall/(beta**2*precision+recall), 3)\n"
   ]
  },
  {
   "cell_type": "code",
   "execution_count": 14,
   "metadata": {},
   "outputs": [
    {
     "name": "stdout",
     "output_type": "stream",
     "text": [
      "0.857\n"
     ]
    }
   ],
   "source": [
    "y_true = np.array([1, 0, 1, 1, 0, 1])\n",
    "y_pred = np.array([1, 0, 1, 0, 0, 1])\n",
    "beta = 1\n",
    "\n",
    "print(f_score(y_true, y_pred, beta))"
   ]
  }
 ],
 "metadata": {
  "kernelspec": {
   "display_name": ".venv",
   "language": "python",
   "name": "python3"
  },
  "language_info": {
   "codemirror_mode": {
    "name": "ipython",
    "version": 3
   },
   "file_extension": ".py",
   "mimetype": "text/x-python",
   "name": "python",
   "nbconvert_exporter": "python",
   "pygments_lexer": "ipython3",
   "version": "3.12.7"
  }
 },
 "nbformat": 4,
 "nbformat_minor": 2
}
