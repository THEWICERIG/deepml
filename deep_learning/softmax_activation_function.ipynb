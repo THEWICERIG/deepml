{
 "cells": [
  {
   "cell_type": "code",
   "execution_count": 1,
   "metadata": {},
   "outputs": [
    {
     "name": "stdout",
     "output_type": "stream",
     "text": [
      "[0.09, 0.2447, 0.6652]\n",
      "[0.3333, 0.3333, 0.3333]\n"
     ]
    }
   ],
   "source": [
    "import math\n",
    "\n",
    "def softmax(scores: list[float]) -> list[float]:\n",
    "\tdenom = sum([math.exp(score) for score in scores])\n",
    "\tprobabilities = [round(math.exp(score)/denom, 4) for score in scores]\n",
    "\treturn probabilities\n",
    "\n",
    "print(softmax([1, 2, 3])) # [0.09, 0.2447, 0.6652]\n",
    "print(softmax([1, 1, 1])) # [0.3333, 0.3333, 0.3333]"
   ]
  }
 ],
 "metadata": {
  "kernelspec": {
   "display_name": ".venv",
   "language": "python",
   "name": "python3"
  },
  "language_info": {
   "codemirror_mode": {
    "name": "ipython",
    "version": 3
   },
   "file_extension": ".py",
   "mimetype": "text/x-python",
   "name": "python",
   "nbconvert_exporter": "python",
   "pygments_lexer": "ipython3",
   "version": "3.11.9"
  }
 },
 "nbformat": 4,
 "nbformat_minor": 2
}
