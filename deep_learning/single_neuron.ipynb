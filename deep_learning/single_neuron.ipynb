{
 "cells": [
  {
   "cell_type": "code",
   "execution_count": 3,
   "metadata": {},
   "outputs": [],
   "source": [
    "import math\n",
    "\n",
    "def sigmoid(z: float) -> float:\n",
    "\tresult = round(1/(1+math.exp(-z)),4)\n",
    "\treturn round(result, 4)\n",
    "\n",
    "def mean_squared_error(pred, true):\n",
    "    n = len(pred)\n",
    "    return round(sum((pred[i]-true[i])**2 for i in range(n))/n, 4)\n",
    "\n",
    "def single_neuron_model(features: list[list[float]], labels: list[int], weights: list[float], bias: float) -> (list[float], float):\n",
    "    probabilities = []\n",
    "    for feature in features:\n",
    "        # wX + b\n",
    "        probability = sum([weights[i]*feature[i] for i in range(len(weights))]) + bias\n",
    "        # Apply activation function\n",
    "        probabilities.append(sigmoid(probability))\n",
    "    mse = mean_squared_error(probabilities, labels)\n",
    "    return probabilities, mse"
   ]
  },
  {
   "cell_type": "code",
   "execution_count": 4,
   "metadata": {},
   "outputs": [
    {
     "data": {
      "text/plain": [
       "([0.4626, 0.4134, 0.6682], 0.3349)"
      ]
     },
     "execution_count": 4,
     "metadata": {},
     "output_type": "execute_result"
    }
   ],
   "source": [
    "single_neuron_model(features = [[0.5, 1.0], [-1.5, -2.0], [2.0, 1.5]], labels = [0, 1, 0], weights = [0.7, -0.4], bias = -0.1)\n"
   ]
  }
 ],
 "metadata": {
  "kernelspec": {
   "display_name": ".venv",
   "language": "python",
   "name": "python3"
  },
  "language_info": {
   "codemirror_mode": {
    "name": "ipython",
    "version": 3
   },
   "file_extension": ".py",
   "mimetype": "text/x-python",
   "name": "python",
   "nbconvert_exporter": "python",
   "pygments_lexer": "ipython3",
   "version": "3.11.9"
  }
 },
 "nbformat": 4,
 "nbformat_minor": 2
}
