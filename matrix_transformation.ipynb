{
 "cells": [
  {
   "cell_type": "code",
   "execution_count": 1,
   "metadata": {},
   "outputs": [
    {
     "data": {
      "text/plain": [
       "array([[0.5, 1.5],\n",
       "       [1.5, 3.5]])"
      ]
     },
     "execution_count": 1,
     "metadata": {},
     "output_type": "execute_result"
    }
   ],
   "source": [
    "import numpy as np\n",
    "\n",
    "def transform_matrix(A: list[list[int|float]], T: list[list[int|float]], S: list[list[int|float]]) -> list[list[int|float]]:\n",
    "    for matrix in [T, S]:\n",
    "        a, b, c, d = matrix[0][0], matrix[0][1], matrix[1][0], matrix[1][1]\n",
    "        # check if matrix is invertible, eg if det(matrix) = 0 \n",
    "        if a*d - b*c == 0:\n",
    "            return None\n",
    "    transformed_matrix = np.linalg.inv(T) @ A @ S\n",
    "    return transformed_matrix\n",
    "\n",
    "transform_matrix(A = [[1, 2], [3, 4]], T = [[2, 0], [0, 2]], S = [[1, 1], [0, 1]])"
   ]
  }
 ],
 "metadata": {
  "kernelspec": {
   "display_name": "aws_glue_311",
   "language": "python",
   "name": "python3"
  },
  "language_info": {
   "codemirror_mode": {
    "name": "ipython",
    "version": 3
   },
   "file_extension": ".py",
   "mimetype": "text/x-python",
   "name": "python",
   "nbconvert_exporter": "python",
   "pygments_lexer": "ipython3",
   "version": "3.11.8"
  }
 },
 "nbformat": 4,
 "nbformat_minor": 2
}
